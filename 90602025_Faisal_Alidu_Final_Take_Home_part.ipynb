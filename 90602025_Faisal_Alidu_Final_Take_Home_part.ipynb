{
  "nbformat": 4,
  "nbformat_minor": 0,
  "metadata": {
    "colab": {
      "provenance": []
    },
    "kernelspec": {
      "name": "python3",
      "display_name": "Python 3"
    },
    "language_info": {
      "name": "python"
    }
  },
  "cells": [
    {
      "cell_type": "markdown",
      "source": [
        "### **Simulation of Autonomous Vehicles for Urban Mobility (Summer 2024)**\n",
        "\n",
        "`Scenario Description:`\n",
        "\n",
        "The goal is to optimize traffic flow and reduce congestion at a busy urban intersection by integrating autonomous vehicles (AVs) into the existing traffic system. The simulation will compare the performance of a mixed traffic environment (AVs and human-driven vehicles) with a scenario where only conventional vehicles are present."
      ],
      "metadata": {
        "id": "mZ809NGtZmCA"
      }
    },
    {
      "cell_type": "markdown",
      "source": [
        "**Begin Simulation**"
      ],
      "metadata": {
        "id": "Msq_eQ5YkGd5"
      }
    },
    {
      "cell_type": "code",
      "source": [
        "from google.colab import drive\n",
        "drive.mount('/content/drive')"
      ],
      "metadata": {
        "colab": {
          "base_uri": "https://localhost:8080/"
        },
        "id": "KJKkyVTT3xSB",
        "outputId": "869b6a01-d26a-446b-d93c-35ea9223dace"
      },
      "execution_count": null,
      "outputs": [
        {
          "output_type": "stream",
          "name": "stdout",
          "text": [
            "Mounted at /content/drive\n"
          ]
        }
      ]
    },
    {
      "cell_type": "code",
      "source": [
        "!apt-get update"
      ],
      "metadata": {
        "id": "tyBzDByc_mve"
      },
      "execution_count": null,
      "outputs": []
    },
    {
      "cell_type": "code",
      "source": [
        "!apt-get install -y sumo sumo-tools sumo-doc"
      ],
      "metadata": {
        "id": "jyjCkALt_na6"
      },
      "execution_count": null,
      "outputs": []
    },
    {
      "cell_type": "code",
      "source": [
        "!pip install traci"
      ],
      "metadata": {
        "id": "SpaEkr-E_8b-"
      },
      "execution_count": null,
      "outputs": []
    },
    {
      "cell_type": "code",
      "source": [
        "!pip install --upgrade traci"
      ],
      "metadata": {
        "id": "35R9Q8skIj0T"
      },
      "execution_count": null,
      "outputs": []
    },
    {
      "cell_type": "code",
      "source": [
        "import traci"
      ],
      "metadata": {
        "id": "lQrVqB1rDA2k"
      },
      "execution_count": 86,
      "outputs": []
    },
    {
      "cell_type": "code",
      "source": [
        "import sumolib"
      ],
      "metadata": {
        "id": "-LHN5ph-DC1F"
      },
      "execution_count": 87,
      "outputs": []
    },
    {
      "cell_type": "code",
      "source": [
        "!pip install tensorflow opencv-python"
      ],
      "metadata": {
        "id": "zLcY3CjlKShk"
      },
      "execution_count": null,
      "outputs": []
    },
    {
      "cell_type": "code",
      "source": [
        "from google.colab import files\n",
        "uploaded = files.upload()\n"
      ],
      "metadata": {
        "id": "Hg6yZjrQKTCB"
      },
      "execution_count": null,
      "outputs": []
    },
    {
      "cell_type": "code",
      "source": [
        "# Path to the SUMO binary\n",
        "sumoBinary = \"sumo\"\n",
        "sumoCmd = [sumoBinary, \"-c\", \"/content/simulation.sumocfg\"]\n",
        "\n",
        "traci.start(sumoCmd)\n",
        "\n",
        "step = 0\n",
        "while step < 1000:\n",
        "    traci.simulationStep()\n",
        "    vehicle_ids = traci.vehicle.getIDList()\n",
        "\n",
        "    for vehicle_id in vehicle_ids:\n",
        "        # Get the current speed of the vehicle\n",
        "        speed = traci.vehicle.getSpeed(vehicle_id)\n",
        "\n",
        "        # Get the vehicle's position\n",
        "        position = traci.vehicle.getPosition(vehicle_id)\n",
        "\n",
        "        # Get the vehicle in front of the current vehicle (if any)\n",
        "        leader_vehicle = traci.vehicle.getLeader(vehicle_id)\n",
        "\n",
        "        if leader_vehicle is not None:\n",
        "            leader_id, gap = leader_vehicle\n",
        "\n",
        "            # Decision logic for adaptive cruise control\n",
        "            safe_gap = 5.0  # Safe following distance in meters\n",
        "            if gap < safe_gap:\n",
        "                # Slow down to maintain a safe distance\n",
        "                new_speed = max(speed - 1.0, 0)  # Reduce speed by 1 m/s, but not below 0\n",
        "                traci.vehicle.slowDown(vehicle_id, new_speed, 1000)  # Apply slowdown over 1 second\n",
        "            else:\n",
        "                # Maintain or increase speed slightly if safe\n",
        "                new_speed = min(speed + 1.0, traci.vehicle.getMaxSpeed(vehicle_id))\n",
        "                traci.vehicle.slowDown(vehicle_id, new_speed, 1000)\n",
        "\n",
        "        # Decision logic for lane changing\n",
        "        current_lane = traci.vehicle.getLaneID(vehicle_id)\n",
        "        if traci.vehicle.getTypeID(vehicle_id) == \"autonomous\" and traci.lane.getLastStepOccupancy(current_lane) < 0.5:\n",
        "            # Try to change lanes if the current lane is congested\n",
        "            possible_lanes = traci.vehicle.getLaneChangePossibleLanes(vehicle_id)\n",
        "            for lane in possible_lanes:\n",
        "                if traci.lane.getLastStepOccupancy(lane) < 0.5:\n",
        "                    traci.vehicle.changeLane(vehicle_id, lane, 1000)\n",
        "                    break\n",
        "\n",
        "    step += 1\n",
        "\n",
        "traci.close()\n",
        "\n",
        "\n"
      ],
      "metadata": {
        "id": "hprY5E5bL7SY"
      },
      "execution_count": null,
      "outputs": []
    },
    {
      "cell_type": "code",
      "source": [
        "average_speed = sum(traci.vehicle.getSpeed(veh) for veh in vehicle_ids) / len(vehicle_ids)\n",
        "print(f\"Average speed of vehicles: {average_speed}\")\n"
      ],
      "metadata": {
        "id": "gqmvrRBjMJ69"
      },
      "execution_count": null,
      "outputs": []
    },
    {
      "cell_type": "code",
      "source": [
        "import matplotlib.pyplot as plt\n",
        "\n",
        "plt.plot( average_speed)\n",
        "plt.title(\"Average Vehicle Speed Over Time\")\n",
        "plt.xlabel(\"Time Step\")\n",
        "plt.ylabel(\"Average Speed (m/s)\")\n",
        "plt.show()\n"
      ],
      "metadata": {
        "id": "UdkU4_gjMLF0"
      },
      "execution_count": null,
      "outputs": []
    }
  ]
}